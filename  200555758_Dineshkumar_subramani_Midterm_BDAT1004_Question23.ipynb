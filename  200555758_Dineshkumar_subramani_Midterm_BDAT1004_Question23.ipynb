{
 "cells": [
  {
   "cell_type": "markdown",
   "id": "8332048c",
   "metadata": {},
   "source": [
    "# Question 23"
   ]
  },
  {
   "cell_type": "markdown",
   "id": "56af6000",
   "metadata": {},
   "source": [
    "Develop a recursive function tough() that takes two nonnegative integer arguments and outputs a pattern as shown below. Hint: The first argument represents the indentation of the pattern, where the second argument -- always a pattern of 2 indicates the number *s in the longest line of *s in the pattern"
   ]
  },
  {
   "cell_type": "code",
   "execution_count": 26,
   "id": "b45bbac0",
   "metadata": {},
   "outputs": [],
   "source": [
    "def tough(indent , n):\n",
    "    if n == 0:\n",
    "        return\n",
    "    \n",
    "    tough(indent, n - 1)\n",
    "    \n",
    "    print(\" \" * indent + \"*\" * n)\n",
    "    \n",
    "    if n > 1:\n",
    "        print(\" \" * (indent + 1) + \"*\" * (n-1))"
   ]
  },
  {
   "cell_type": "code",
   "execution_count": 28,
   "id": "86877fb3",
   "metadata": {},
   "outputs": [
    {
     "name": "stdout",
     "output_type": "stream",
     "text": [
      ">>> tough(0, 0)\n",
      "\n",
      "\n",
      ">>> tough(0, 1)\n",
      "*\n",
      "\n",
      "\n",
      ">>> tough(0, 2)\n",
      "*\n",
      "**\n",
      " *\n",
      "\n",
      "\n",
      ">>> tough(0, 4)\n",
      "*\n",
      "**\n",
      " *\n",
      "***\n",
      " **\n",
      "****\n",
      " ***\n",
      "\n",
      "\n"
     ]
    }
   ],
   "source": [
    "print(\">>> tough(0, 0)\")\n",
    "tough(0, 0)\n",
    "print(\"\\n\")\n",
    "print(\">>> tough(0, 1)\")\n",
    "tough(0, 1)\n",
    "print(\"\\n\")\n",
    "print(\">>> tough(0, 2)\")\n",
    "tough(0, 2)\n",
    "print(\"\\n\")\n",
    "print(\">>> tough(0, 4)\")\n",
    "tough(0, 4)\n",
    "print(\"\\n\")"
   ]
  },
  {
   "cell_type": "code",
   "execution_count": 11,
   "id": "bfce3b6e",
   "metadata": {},
   "outputs": [],
   "source": [
    "###############################"
   ]
  }
 ],
 "metadata": {
  "kernelspec": {
   "display_name": "Python 3 (ipykernel)",
   "language": "python",
   "name": "python3"
  },
  "language_info": {
   "codemirror_mode": {
    "name": "ipython",
    "version": 3
   },
   "file_extension": ".py",
   "mimetype": "text/x-python",
   "name": "python",
   "nbconvert_exporter": "python",
   "pygments_lexer": "ipython3",
   "version": "3.10.9"
  }
 },
 "nbformat": 4,
 "nbformat_minor": 5
}
